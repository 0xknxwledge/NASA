{
 "cells": [
  {
   "cell_type": "code",
   "execution_count": null,
   "metadata": {},
   "outputs": [],
   "source": [
    "import os\n",
    "import pandas as pd\n",
    "import matplotlib.pyplot as plt\n",
    "from obspy.signal.trigger import classic_sta_lta, trigger_onset\n",
    "import numpy as np\n",
    "\n",
    "def sta_lta_graph(df, sta=500, lta=5000, thr_on=3, thr_off=1):\n",
    "    if \"time_rel(sec)\" not in df.columns or \"velocity(m/s)\" not in df.columns:\n",
    "        raise ValueError(\"Required columns 'time_rel(sec)' or 'velocity(m/s)' not found in the DataFrame\")\n",
    "\n",
    "    if len(df) < 2:\n",
    "        raise ValueError(\"DataFrame must contain at least two rows\")\n",
    "\n",
    "    samp_rate = 1/(df[\"time_rel(sec)\"].iloc[1] - df[\"time_rel(sec)\"].iloc[0])\n",
    "    rel_time = df[\"time_rel(sec)\"]\n",
    "    offset = int(samp_rate * 240)\n",
    "\n",
    "    cft = classic_sta_lta(df[\"velocity(m/s)\"], int(sta * samp_rate), int(lta * samp_rate))\n",
    "    on_off = np.array(trigger_onset(cft, thr_on, thr_off))\n",
    "\n",
    "    trig_indeces = []\n",
    "    fig, ax = plt.subplots(1, 1, figsize=(12, 3))\n",
    "    \n",
    "    for i in range(len(on_off)):\n",
    "        trigger = on_off[i]\n",
    "        start_index = max(0, min(trigger[0] - offset, len(rel_time) - 1))\n",
    "        end_index = min(trigger[1], len(rel_time) - 1)\n",
    "        \n",
    "        trig_indeces.append((start_index, end_index))\n",
    "        \n",
    "        ax.axvline(x=rel_time[start_index], color='red', label='Trig. On' if i == 0 else \"\")\n",
    "        ax.axvline(x=rel_time[end_index], color='purple', label='Trig. Off' if i == 0 else \"\")\n",
    "\n",
    "    ax.plot(rel_time, df[\"velocity(m/s)\"])\n",
    "    ax.set_xlim([min(rel_time), max(rel_time)])\n",
    "    ax.legend()\n",
    "\n",
    "    return trig_indeces, fig\n",
    "\n",
    "def process_csv_files(base_path):\n",
    "    directories = [\n",
    "        'S12_GradeB',\n",
    "        'S15_GradeA',\n",
    "        'S15_GradeB',\n",
    "        'S16_GradeA',\n",
    "        'S16_GradeB'\n",
    "    ]\n",
    "\n",
    "    for directory in directories:\n",
    "        dir_path = os.path.join(base_path, directory)\n",
    "        if not os.path.exists(dir_path):\n",
    "            print(f\"Directory not found: {dir_path}\")\n",
    "            continue\n",
    "\n",
    "        output_dir = os.path.join(dir_path, 'output')\n",
    "        os.makedirs(output_dir, exist_ok=True)\n",
    "\n",
    "        for filename in os.listdir(dir_path):\n",
    "            if filename.endswith('.csv'):\n",
    "                file_path = os.path.join(dir_path, filename)\n",
    "                try:\n",
    "                    df = pd.read_csv(file_path)\n",
    "                    trig_indices, fig = sta_lta_graph(df)\n",
    "                    \n",
    "                    # Save the plot\n",
    "                    plot_filename = f\"{os.path.splitext(filename)[0]}_plot.png\"\n",
    "                    plot_path = os.path.join(output_dir, plot_filename)\n",
    "                    fig.savefig(plot_path)\n",
    "                    plt.close(fig)\n",
    "                    \n",
    "                    # Save trigger indices\n",
    "                    indices_filename = f\"{os.path.splitext(filename)[0]}_triggers.txt\"\n",
    "                    indices_path = os.path.join(output_dir, indices_filename)\n",
    "                    with open(indices_path, 'w') as f:\n",
    "                        for start, end in trig_indices:\n",
    "                            f.write(f\"{start},{end}\\n\")\n",
    "                    \n",
    "                    print(f\"Processed {filename}\")\n",
    "                except Exception as e:\n",
    "                    print(f\"Error processing {filename}: {str(e)}\")\n",
    "\n",
    "base_path = \"space_apps_2024_seismic_detection/data/lunar/test/data\"\n",
    "process_csv_files(base_path)"
   ]
  },
  {
   "cell_type": "code",
   "execution_count": null,
   "metadata": {},
   "outputs": [],
   "source": []
  },
  {
   "cell_type": "code",
   "execution_count": null,
   "metadata": {},
   "outputs": [],
   "source": []
  },
  {
   "cell_type": "code",
   "execution_count": null,
   "metadata": {},
   "outputs": [],
   "source": []
  },
  {
   "cell_type": "code",
   "execution_count": null,
   "metadata": {},
   "outputs": [],
   "source": []
  },
  {
   "cell_type": "code",
   "execution_count": null,
   "metadata": {},
   "outputs": [],
   "source": []
  },
  {
   "cell_type": "code",
   "execution_count": null,
   "metadata": {},
   "outputs": [],
   "source": []
  },
  {
   "cell_type": "code",
   "execution_count": null,
   "metadata": {},
   "outputs": [],
   "source": []
  },
  {
   "cell_type": "code",
   "execution_count": null,
   "metadata": {},
   "outputs": [],
   "source": []
  },
  {
   "cell_type": "code",
   "execution_count": null,
   "metadata": {},
   "outputs": [],
   "source": []
  },
  {
   "cell_type": "code",
   "execution_count": null,
   "metadata": {},
   "outputs": [],
   "source": []
  }
 ],
 "metadata": {
  "kernelspec": {
   "display_name": "base",
   "language": "python",
   "name": "python3"
  },
  "language_info": {
   "name": "python",
   "version": "3.9.12"
  }
 },
 "nbformat": 4,
 "nbformat_minor": 2
}
