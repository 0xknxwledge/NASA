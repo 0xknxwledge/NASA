{
 "cells": [
  {
   "cell_type": "code",
   "execution_count": null,
   "metadata": {},
   "outputs": [],
   "source": [
    "from io import StringIO\n",
    "import numpy as np\n",
    "import pandas as pd\n",
    "from datetime import datetime, timedelta\n",
    "import matplotlib.pyplot as plt\n",
    "import os\n",
    "import glob\n",
    "from scipy.integrate import cumtrapz\n",
    "from scipy.fft import fft\n",
    "import numpy as np\n",
    "from obspy import Trace\n",
    "from obspy.signal.trigger import classic_sta_lta, trigger_onset\n",
    "\n",
    "\n",
    "def sta_lta(df, sta=500, lta=5000, thr_on=3, thr_off=1):\n",
    "    '''\n",
    "    Dectect and mark trigger on and trigger off times of seismic anomalies using Short Term Average/Long Term Average algorithm\n",
    "\n",
    "    Parameters:\n",
    "    - df (pd.DataFrame): DataFrame containing the seismic data.\n",
    "    - sta (int): Short Time Average window length (in samples).\n",
    "    - lta (int): Long Time Average window length (in samples).\n",
    "    - thr_on (float): Trigger on threshold (earthquake detected) in rel time.\n",
    "    - thr_off (float): Trigger off threshold in rel time.\n",
    "\n",
    "    Returns:\n",
    "    - list: A list of tuples containing trigger on and off indices of df.\n",
    "    '''\n",
    "    samp_rate = 1 / (df[\"time_rel(sec)\"][1] - df[\"time_rel(sec)\"][0])\n",
    "    offset = int(samp_rate * 240)\n",
    "\n",
    "    cft = classic_sta_lta(df[\"velocity(m/s)\"], int(sta * samp_rate), int(lta * samp_rate))\n",
    "    on_off = np.array(trigger_onset(cft, thr_on, thr_off))\n",
    "\n",
    "    trig_indices = []\n",
    "    for i in np.arange(0, len(on_off)):\n",
    "        trigger = on_off[i]\n",
    "        trig_indices.append((trigger[0] - offset, trigger[1] - offset))\n",
    "\n",
    "    return trig_indices\n",
    "\n",
    "\n",
    "\n"
   ]
  }
 ],
 "metadata": {
  "kernelspec": {
   "display_name": "Python 3",
   "language": "python",
   "name": "python3"
  },
  "language_info": {
   "name": "python",
   "version": "3.10.12"
  }
 },
 "nbformat": 4,
 "nbformat_minor": 2
}
