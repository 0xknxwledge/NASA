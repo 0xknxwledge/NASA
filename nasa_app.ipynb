{
 "cells": [
  {
   "cell_type": "code",
   "execution_count": 1,
   "metadata": {},
   "outputs": [],
   "source": [
    "from io import StringIO\n",
    "import numpy as np\n",
    "import pandas as pd\n",
    "from datetime import datetime, timedelta\n",
    "import matplotlib.pyplot as plt\n",
    "import os\n",
    "import glob\n",
    "from scipy.integrate import cumtrapz\n",
    "from scipy.fft import fft\n",
    "import numpy as np\n",
    "from obspy import Trace\n",
    "from obspy.signal.trigger import classic_sta_lta, trigger_onset\n",
    "from sklearn.ensemble import IsolationForest\n",
    "from scipy import signal\n",
    "\n",
    "\n",
    "\n",
    "lunar_cat_directory = './space_apps_2024_seismic_detection/data/lunar/training/catalogs/'\n",
    "lunar_cat_file = lunar_cat_directory + 'apollo12_catalog_GradeA_final.csv'\n",
    "lunar_cat = pd.read_csv(lunar_cat_file)\n",
    "\n",
    "# load data directories\n",
    "lunar_training_data_directory = './space_apps_2024_seismic_detection/data/lunar/training/data/S12_GradeA/'\n",
    "mars_training_data_directory = './space_apps_2024_seismic_detection/data/mars/training/data'\n",
    "\n",
    "\n",
    "lunar_training_file = lunar_training_data_directory + lunar_cat['filename'][0] + '.csv'\n",
    "\n",
    "l_training_df = pd.read_csv(lunar_training_file)"
   ]
  },
  {
   "cell_type": "code",
   "execution_count": 2,
   "metadata": {},
   "outputs": [],
   "source": [
    "def sta_lta(df, sta=500, lta=5000, thr_on=3, thr_off=1):\n",
    "    '''\n",
    "    Dectect and mark trigger on and trigger off times of seismic anomalies using Short Term Average/Long Term Average algorithm\n",
    "\n",
    "    Parameters:\n",
    "    - df (pd.DataFrame): DataFrame containing the seismic data.\n",
    "    - sta (int): Short Time Average window length (in samples).\n",
    "    - lta (int): Long Time Average window length (in samples).\n",
    "    - thr_on (float): Trigger on threshold (earthquake detected) in rel time.\n",
    "    - thr_off (float): Trigger off threshold in rel time.\n",
    "\n",
    "    Returns:\n",
    "    - list: A list of tuples containing trigger on and off indices of df.\n",
    "    '''\n",
    "    samp_rate = 1 / (df[\"time_rel(sec)\"][1] - df[\"time_rel(sec)\"][0])\n",
    "    offset = int(samp_rate * 240)\n",
    "\n",
    "    cft = classic_sta_lta(df[\"velocity(m/s)\"], int(sta * samp_rate), int(lta * samp_rate))\n",
    "    on_off = np.array(trigger_onset(cft, thr_on, thr_off))\n",
    "\n",
    "    trig_indices = []\n",
    "    for i in np.arange(0, len(on_off)):\n",
    "        trigger = on_off[i]\n",
    "        trig_indices.append((trigger[0] - offset, trigger[1] - offset))\n",
    "\n",
<<<<<<< HEAD
    "    return trig_indices\n"
=======
    "    return trig_indices\n",
    "\n",
    "\n",
    "\n"
>>>>>>> e9a71163b09a7f99d84e31782ada7e615db14859
   ]
  },
  {
   "cell_type": "code",
   "execution_count": null,
   "metadata": {},
   "outputs": [],
   "source": []
  }
 ],
 "metadata": {
  "kernelspec": {
   "display_name": "base",
   "language": "python",
   "name": "python3"
  },
  "language_info": {
   "codemirror_mode": {
    "name": "ipython",
    "version": 3
   },
   "file_extension": ".py",
   "mimetype": "text/x-python",
   "name": "python",
   "nbconvert_exporter": "python",
   "pygments_lexer": "ipython3",
   "version": "3.9.12"
  }
 },
 "nbformat": 4,
 "nbformat_minor": 2
}
