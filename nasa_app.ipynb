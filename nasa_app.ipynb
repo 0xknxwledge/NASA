{
 "cells": [
  {
   "cell_type": "code",
   "execution_count": 1,
   "metadata": {},
   "outputs": [],
   "source": [
    "from io import StringIO\n",
    "import numpy as np\n",
    "import pandas as pd\n",
    "from datetime import datetime, timedelta\n",
    "import matplotlib.pyplot as plt\n",
    "import os\n",
    "import glob\n",
    "from scipy.integrate import cumtrapz\n",
    "from scipy.fft import fft\n",
    "import numpy as np\n",
    "from obspy import Trace\n",
    "from obspy.signal.trigger import classic_sta_lta, trigger_onset\n",
    "from sklearn.ensemble import IsolationForest\n",
    "from scipy import signal\n",
    "\n",
    "\n",
    "\n",
    "lunar_cat_directory = './space_apps_2024_seismic_detection/data/lunar/training/catalogs/'\n",
    "lunar_cat_file = lunar_cat_directory + 'apollo12_catalog_GradeA_final.csv'\n",
    "lunar_cat = pd.read_csv(lunar_cat_file)\n",
    "\n",
    "# load data directories\n",
    "lunar_training_data_directory = './space_apps_2024_seismic_detection/data/lunar/training/data/S12_GradeA/'\n",
    "mars_training_data_directory = './space_apps_2024_seismic_detection/data/mars/training/data'\n",
    "\n",
    "\n",
    "lunar_training_file = lunar_training_data_directory + lunar_cat['filename'][0] + '.csv'\n",
    "\n",
    "l_training_df = pd.read_csv(lunar_training_file)"
   ]
  },
  {
   "cell_type": "code",
   "execution_count": 16,
   "metadata": {},
   "outputs": [],
   "source": [
    "def sta_lta(df, expand, sta=500, lta=5000, thr_on=3, thr_off=1):\n",
    "    '''\n",
    "    Dectect and mark trigger on and trigger off times of seismic anomalies using Short Term Average/Long Term Average algorithm\n",
    "\n",
    "    Parameters:\n",
    "    - df (pd.DataFrame): DataFrame containing the seismic data.\n",
    "    - sta (int): Short Time Average window length (in samples).\n",
    "    - lta (int): Long Time Average window length (in samples).\n",
    "    - thr_on (float): Trigger on threshold (earthquake detected) in rel time.\n",
    "    - thr_off (float): Trigger off threshold in rel time.\n",
    "\n",
    "    Returns:\n",
    "    - list: A list of tuples containing trigger on and off indices of df.\n",
    "    '''\n",
    "    rel_time = np.array(df[\"time_rel(sec)\"])\n",
    "    samp_rate = 1 / (rel_time[-1] - rel_time[-2])\n",
    "    offset = int(samp_rate * 240) * expand\n",
    "\n",
    "    cft = classic_sta_lta(df[\"velocity(m/s)\"], int(sta * samp_rate), int(lta * samp_rate))\n",
    "    on_off = np.array(trigger_onset(cft, thr_on, thr_off))\n",
    "\n",
    "    trig_indices = []\n",
    "    for i in np.arange(0, len(on_off)):\n",
    "        trigger = on_off[i]\n",
    "        trig_indices.append((trigger[0] - offset, trigger[1] + offset))\n",
    "\n",
    "    return trig_indices\n"
   ]
  },
  {
   "cell_type": "code",
   "execution_count": 18,
   "metadata": {},
   "outputs": [
    {
     "name": "stdout",
     "output_type": "stream",
     "text": [
      "[]\n",
      "[]\n",
      "[(1324, 1916), (5384, 5940)]\n",
      "[(1324, 1916), (5384, 5940), (6920, 7231), (7864, 9042)]\n",
      "[(1324, 1916), (5384, 5940), (6920, 7231), (7864, 9042)]\n",
      "[(1324, 1916), (5384, 5940), (6920, 7231), (7864, 9042), (8498, 9999)]\n",
      "[(1324, 1916), (5384, 5940), (6920, 7231), (7864, 9042), (8498, 9999), (1323, 2074), (5942, 7239)]\n",
      "[(1324, 1916), (5384, 5940), (6920, 7231), (7864, 9042), (8498, 9999), (1323, 2074), (5942, 7239)]\n",
      "[(1324, 1916), (5384, 5940), (6920, 7231), (7864, 9042), (8498, 9999), (1323, 2074), (5942, 7239)]\n",
      "[(1324, 1916), (5384, 5940), (6920, 7231), (7864, 9042), (8498, 9999), (1323, 2074), (5942, 7239), (1323, 3734)]\n"
     ]
    }
   ],
   "source": [
    "sta2, lta2 = 50, 200\n",
    "\n",
    "trig_inds = sta_lta(l_training_df, 1)\n",
    "new_inds = []\n",
    "for seg in trig_inds:\n",
    "    new_inds += sta_lta(l_training_df.iloc[seg[0]: seg[1]], 0, sta = sta2, lta =lta2)\n",
    "    print(new_inds)\n"
   ]
  },
  {
   "cell_type": "code",
   "execution_count": null,
   "metadata": {},
   "outputs": [],
   "source": []
  }
 ],
 "metadata": {
  "kernelspec": {
   "display_name": "base",
   "language": "python",
   "name": "python3"
  },
  "language_info": {
   "codemirror_mode": {
    "name": "ipython",
    "version": 3
   },
   "file_extension": ".py",
   "mimetype": "text/x-python",
   "name": "python",
   "nbconvert_exporter": "python",
   "pygments_lexer": "ipython3",
   "version": "3.9.12"
  }
 },
 "nbformat": 4,
 "nbformat_minor": 2
}
