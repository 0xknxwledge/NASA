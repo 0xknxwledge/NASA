{
 "cells": [
  {
   "cell_type": "code",
   "execution_count": null,
   "id": "664ab5c9-16da-439d-aebc-87ab3dbc656a",
   "metadata": {},
   "outputs": [],
   "source": [
    "# Import libraries\n",
    "from io import StringIO\n",
    "import numpy as np\n",
    "import pandas as pd\n",
    "from obspy import read\n",
    "from datetime import datetime, timedelta\n",
    "import matplotlib.pyplot as plt\n",
    "import os\n",
    "\n",
    "# load data directories\n",
    "lunar_test_data_directory = './space_apps_2024_seismic_detection/data/lunar/test/data'\n",
    "lunar_training_data_directory = './space_apps_2024_seismic_detection/data/lunar/training/data/S12_GradeA'\n",
    "\n",
    "mars_test_data_directory = './space_apps_2024_seismic_detection/data/mars/test/data'\n",
    "mars_training_data_directory = './space_apps_2024_seismic_detection/data/mars/training/data'\n",
    "\n",
    "lunar_training_file = lunar_training_data_directory + 'apollo12_catalog_GradeA_final.csv'\n",
    "\n",
    "l_test_df = pd.read_csv(StringIO())\n",
    "l_train_df = pd.read_csv()\n"
   ]
  },
  {
   "cell_type": "code",
   "execution_count": null,
   "id": "f54cc748",
   "metadata": {},
   "outputs": [],
   "source": []
  }
 ],
 "metadata": {
  "kernelspec": {
   "display_name": "Python 3 (ipykernel)",
   "language": "python",
   "name": "python3"
  },
  "language_info": {
   "codemirror_mode": {
    "name": "ipython",
    "version": 3
   },
   "file_extension": ".py",
   "mimetype": "text/x-python",
   "name": "python",
   "nbconvert_exporter": "python",
   "pygments_lexer": "ipython3",
   "version": "3.11.4"
  }
 },
 "nbformat": 4,
 "nbformat_minor": 5
}
