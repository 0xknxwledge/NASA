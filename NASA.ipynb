{
 "cells": [
  {
   "cell_type": "code",
   "execution_count": 9,
   "id": "664ab5c9-16da-439d-aebc-87ab3dbc656a",
   "metadata": {},
   "outputs": [],
   "source": [
    "# Import libraries\n",
    "from io import StringIO\n",
    "import numpy as np\n",
    "import pandas as pd\n",
    "from obspy import read\n",
    "from datetime import datetime, timedelta\n",
    "import matplotlib.pyplot as plt\n",
    "import os\n",
    "\n",
    "# load data directories\n",
    "lunar_test_data_directory = './space_apps_2024_seismic_detection/data/lunar/test/data'\n",
    "lunar_training_data_directory = './space_apps_2024_seismic_detection/data/lunar/training/data/S12_GradeA/'\n",
    "\n",
    "mars_test_data_directory = './space_apps_2024_seismic_detection/data/mars/test/data'\n",
    "mars_training_data_directory = './space_apps_2024_seismic_detection/data/mars/training/data'\n",
    "\n",
    "lunar_training_file = lunar_training_data_directory + 'xa.s12.00.mhz.1970-01-19HR00_evid00002.csv'\n",
    "\n",
    "l_test_df = pd.read_csv(lunar_training_file)\n",
    "# l_train_df = pd.read_csv()\n"
   ]
  },
  {
   "cell_type": "code",
   "execution_count": null,
   "id": "0e60c42c",
   "metadata": {},
   "outputs": [],
   "source": []
  },
  {
   "cell_type": "code",
   "execution_count": null,
   "id": "f54cc748",
   "metadata": {},
   "outputs": [],
   "source": [
    "## Fucking with STA/LTA\n",
    "\n",
    "row = cat.iloc[4]\n",
    "print(row['mq_type'])\n",
    "arrival_time = datetime.strptime(row['time_abs(%Y-%m-%dT%H:%M:%S.%f)'],'%Y-%m-%dT%H:%M:%S.%f')\n",
    "\n",
    "test_filename = row.filename\n",
    "\n",
    "data_directory = './data/lunar/training/data/S12_GradeA/'\n",
    "csv_file = f'{data_directory}{test_filename}.csv'\n",
    "data_cat = pd.read_csv(csv_file)\n",
    "data_cat"
   ]
  }
 ],
 "metadata": {
  "kernelspec": {
   "display_name": "base",
   "language": "python",
   "name": "python3"
  },
  "language_info": {
   "codemirror_mode": {
    "name": "ipython",
    "version": 3
   },
   "file_extension": ".py",
   "mimetype": "text/x-python",
   "name": "python",
   "nbconvert_exporter": "python",
   "pygments_lexer": "ipython3",
   "version": "3.9.12"
  }
 },
 "nbformat": 4,
 "nbformat_minor": 5
}
